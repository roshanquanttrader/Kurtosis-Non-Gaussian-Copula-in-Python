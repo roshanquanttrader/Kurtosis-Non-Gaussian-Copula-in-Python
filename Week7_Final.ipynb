{
 "cells": [
  {
   "cell_type": "code",
   "execution_count": 1,
   "id": "0b7ce80a",
   "metadata": {},
   "outputs": [],
   "source": [
    "import holidays\n",
    "import pandas as pd\n",
    "import numpy as np\n",
    "from pandas import Series, DataFrame\n",
    "import matplotlib.pyplot as plt\n",
    "import seaborn as sns\n",
    "from scipy import stats\n",
    "from scipy.stats import kurtosis\n",
    "from sklearn.cluster import DBSCAN\n",
    "from pandas import Series, DataFrame\n",
    "from datetime import datetime\n",
    "from statsmodels.tsa.stattools import adfuller, coint\n",
    "from statsmodels.tsa.vector_ar.vecm import VECM\n",
    "%matplotlib inline"
   ]
  },
  {
   "cell_type": "code",
   "execution_count": 2,
   "id": "f31f1a0b",
   "metadata": {},
   "outputs": [
    {
     "name": "stdout",
     "output_type": "stream",
     "text": [
      "                 Open       High        Low      Close  Adj Close\n",
      "Date                                                             \n",
      "2020-04-01  15.730000  15.900000  15.654000  15.840000  15.840000\n",
      "2020-04-02  15.990000  16.160000  15.960000  16.110001  16.110001\n",
      "2020-04-03  16.129999  16.219999  16.070000  16.209999  16.209999\n",
      "2020-04-06  16.330000  16.650000  16.309999  16.610001  16.610001\n",
      "2020-04-07  16.459999  16.580000  16.370001  16.570000  16.570000\n",
      "...               ...        ...        ...        ...        ...\n",
      "2020-12-23  18.590000  18.700001  18.584999  18.650000  18.650000\n",
      "2020-12-24  18.620001  18.730000  18.620001  18.730000  18.730000\n",
      "2020-12-28  18.830000  18.885000  18.639999  18.650000  18.650000\n",
      "2020-12-29  18.719999  18.780001  18.639999  18.719999  18.719999\n",
      "2020-12-30  18.730000  18.860001  18.730000  18.860001  18.860001\n",
      "\n",
      "[190 rows x 5 columns] \n",
      "\n"
     ]
    }
   ],
   "source": [
    "gold_data = pd.read_excel (r'C:\\Users\\RSHARMA\\Desktop\\GR3\\Data.xlsx', sheet_name='Gold_Apr_Dec', index_col='Date',parse_dates=True)\n",
    "\n",
    "\n",
    "print(gold_data,'\\n')"
   ]
  },
  {
   "cell_type": "code",
   "execution_count": 3,
   "id": "d2a9f7c7",
   "metadata": {},
   "outputs": [
    {
     "name": "stdout",
     "output_type": "stream",
     "text": [
      "               Symbol  Prev Close  Open Price  High Price  Low Price  \\\n",
      "Date                                                                   \n",
      "2020-04-01  SETFNIF50       89.40       92.10       94.80      88.25   \n",
      "2020-04-03  SETFNIF50       89.13       90.95       90.95      84.71   \n",
      "2020-04-07  SETFNIF50       85.17       88.60       91.50      86.00   \n",
      "2020-04-08  SETFNIF50       90.78       90.65       93.50      89.10   \n",
      "2020-04-09  SETFNIF50       90.32       92.00       93.41      91.50   \n",
      "...               ...         ...         ...         ...        ...   \n",
      "2020-12-24  SETFNIF50      141.00      141.25      143.00     141.00   \n",
      "2020-12-28  SETFNIF50      142.90      147.00      151.00     143.00   \n",
      "2020-12-29  SETFNIF50      143.90      145.14      145.14     143.84   \n",
      "2020-12-30  SETFNIF50      144.57      145.00      145.38     143.91   \n",
      "2020-12-31  SETFNIF50      145.00      144.81      145.31     144.46   \n",
      "\n",
      "            Last Price  Adj Close  Average Price  \n",
      "Date                                              \n",
      "2020-04-01       89.10      89.13          88.91  \n",
      "2020-04-03       85.35      85.17          85.65  \n",
      "2020-04-07       90.79      90.78          88.89  \n",
      "2020-04-08       90.30      90.32          91.60  \n",
      "2020-04-09       93.19      93.11          92.88  \n",
      "...                ...        ...            ...  \n",
      "2020-12-24      142.78     142.90         142.11  \n",
      "2020-12-28      144.00     143.90         143.76  \n",
      "2020-12-29      144.31     144.57         144.38  \n",
      "2020-12-30      144.99     145.00         144.96  \n",
      "2020-12-31      144.90     144.89         144.98  \n",
      "\n",
      "[188 rows x 8 columns] \n",
      "\n"
     ]
    }
   ],
   "source": [
    "equity_data = pd.read_excel (r'C:\\Users\\RSHARMA\\Desktop\\GR3\\Data.xlsx', sheet_name='Equity_Apr_Dec', index_col='Date',parse_dates=True)\n",
    "\n",
    "\n",
    "print(equity_data,'\\n')"
   ]
  },
  {
   "cell_type": "code",
   "execution_count": 4,
   "id": "6ad66ed5",
   "metadata": {},
   "outputs": [
    {
     "name": "stdout",
     "output_type": "stream",
     "text": [
      "                    Open          High           Low         Close  \\\n",
      "Date                                                                 \n",
      "2020-04-01   6437.319336   6612.573730   6202.373535   6606.776367   \n",
      "2020-04-02   6606.776367   7088.247559   6595.918457   6793.624512   \n",
      "2020-04-03   6797.396484   7003.220703   6673.335938   6733.387207   \n",
      "2020-04-04   6738.382813   6878.953613   6696.484863   6867.527344   \n",
      "2020-04-05   6862.537598   6883.414063   6715.929199   6791.129395   \n",
      "...                  ...           ...           ...           ...   \n",
      "2020-12-27  26439.373047  28288.839844  25922.769531  26272.294922   \n",
      "2020-12-28  26280.822266  27389.111328  26207.640625  27084.808594   \n",
      "2020-12-29  27081.810547  27370.720703  25987.298828  27362.437500   \n",
      "2020-12-30  27360.089844  28937.740234  27360.089844  28840.953125   \n",
      "2020-12-31  28841.574219  29244.876953  28201.992188  29001.720703   \n",
      "\n",
      "               Adj Close  \n",
      "Date                      \n",
      "2020-04-01   6606.776367  \n",
      "2020-04-02   6793.624512  \n",
      "2020-04-03   6733.387207  \n",
      "2020-04-04   6867.527344  \n",
      "2020-04-05   6791.129395  \n",
      "...                  ...  \n",
      "2020-12-27  26272.294922  \n",
      "2020-12-28  27084.808594  \n",
      "2020-12-29  27362.437500  \n",
      "2020-12-30  28840.953125  \n",
      "2020-12-31  29001.720703  \n",
      "\n",
      "[275 rows x 5 columns] \n",
      "\n"
     ]
    }
   ],
   "source": [
    "bitcoin_data = pd.read_excel (r'C:\\Users\\RSHARMA\\Desktop\\GR3\\Data.xlsx', sheet_name='Bitcoin_Apr_Dec', index_col='Date',parse_dates=True)\n",
    "\n",
    "\n",
    "print(bitcoin_data,'\\n')"
   ]
  },
  {
   "cell_type": "code",
   "execution_count": 5,
   "id": "0f33840c",
   "metadata": {},
   "outputs": [
    {
     "data": {
      "text/html": [
       "<div>\n",
       "<style scoped>\n",
       "    .dataframe tbody tr th:only-of-type {\n",
       "        vertical-align: middle;\n",
       "    }\n",
       "\n",
       "    .dataframe tbody tr th {\n",
       "        vertical-align: top;\n",
       "    }\n",
       "\n",
       "    .dataframe thead th {\n",
       "        text-align: right;\n",
       "    }\n",
       "</style>\n",
       "<table border=\"1\" class=\"dataframe\">\n",
       "  <thead>\n",
       "    <tr style=\"text-align: right;\">\n",
       "      <th></th>\n",
       "      <th>Open</th>\n",
       "      <th>High</th>\n",
       "      <th>Low</th>\n",
       "      <th>Close</th>\n",
       "      <th>Adj Close</th>\n",
       "      <th>Daily Return</th>\n",
       "    </tr>\n",
       "    <tr>\n",
       "      <th>Date</th>\n",
       "      <th></th>\n",
       "      <th></th>\n",
       "      <th></th>\n",
       "      <th></th>\n",
       "      <th></th>\n",
       "      <th></th>\n",
       "    </tr>\n",
       "  </thead>\n",
       "  <tbody>\n",
       "    <tr>\n",
       "      <th>2020-04-01</th>\n",
       "      <td>15.730000</td>\n",
       "      <td>15.900000</td>\n",
       "      <td>15.654000</td>\n",
       "      <td>15.840000</td>\n",
       "      <td>15.840000</td>\n",
       "      <td>NaN</td>\n",
       "    </tr>\n",
       "    <tr>\n",
       "      <th>2020-04-02</th>\n",
       "      <td>15.990000</td>\n",
       "      <td>16.160000</td>\n",
       "      <td>15.960000</td>\n",
       "      <td>16.110001</td>\n",
       "      <td>16.110001</td>\n",
       "      <td>0.017046</td>\n",
       "    </tr>\n",
       "    <tr>\n",
       "      <th>2020-04-03</th>\n",
       "      <td>16.129999</td>\n",
       "      <td>16.219999</td>\n",
       "      <td>16.070000</td>\n",
       "      <td>16.209999</td>\n",
       "      <td>16.209999</td>\n",
       "      <td>0.006207</td>\n",
       "    </tr>\n",
       "    <tr>\n",
       "      <th>2020-04-06</th>\n",
       "      <td>16.330000</td>\n",
       "      <td>16.650000</td>\n",
       "      <td>16.309999</td>\n",
       "      <td>16.610001</td>\n",
       "      <td>16.610001</td>\n",
       "      <td>0.024676</td>\n",
       "    </tr>\n",
       "    <tr>\n",
       "      <th>2020-04-07</th>\n",
       "      <td>16.459999</td>\n",
       "      <td>16.580000</td>\n",
       "      <td>16.370001</td>\n",
       "      <td>16.570000</td>\n",
       "      <td>16.570000</td>\n",
       "      <td>-0.002408</td>\n",
       "    </tr>\n",
       "  </tbody>\n",
       "</table>\n",
       "</div>"
      ],
      "text/plain": [
       "                 Open       High        Low      Close  Adj Close  \\\n",
       "Date                                                                \n",
       "2020-04-01  15.730000  15.900000  15.654000  15.840000  15.840000   \n",
       "2020-04-02  15.990000  16.160000  15.960000  16.110001  16.110001   \n",
       "2020-04-03  16.129999  16.219999  16.070000  16.209999  16.209999   \n",
       "2020-04-06  16.330000  16.650000  16.309999  16.610001  16.610001   \n",
       "2020-04-07  16.459999  16.580000  16.370001  16.570000  16.570000   \n",
       "\n",
       "            Daily Return  \n",
       "Date                      \n",
       "2020-04-01           NaN  \n",
       "2020-04-02      0.017046  \n",
       "2020-04-03      0.006207  \n",
       "2020-04-06      0.024676  \n",
       "2020-04-07     -0.002408  "
      ]
     },
     "execution_count": 5,
     "metadata": {},
     "output_type": "execute_result"
    }
   ],
   "source": [
    "gold_data[\"Daily Return\"] = gold_data[\"Adj Close\"].pct_change(1)\n",
    "gold_data.head()"
   ]
  },
  {
   "cell_type": "code",
   "execution_count": 6,
   "id": "d278b55f",
   "metadata": {},
   "outputs": [
    {
     "data": {
      "text/html": [
       "<div>\n",
       "<style scoped>\n",
       "    .dataframe tbody tr th:only-of-type {\n",
       "        vertical-align: middle;\n",
       "    }\n",
       "\n",
       "    .dataframe tbody tr th {\n",
       "        vertical-align: top;\n",
       "    }\n",
       "\n",
       "    .dataframe thead th {\n",
       "        text-align: right;\n",
       "    }\n",
       "</style>\n",
       "<table border=\"1\" class=\"dataframe\">\n",
       "  <thead>\n",
       "    <tr style=\"text-align: right;\">\n",
       "      <th></th>\n",
       "      <th>Symbol</th>\n",
       "      <th>Prev Close</th>\n",
       "      <th>Open Price</th>\n",
       "      <th>High Price</th>\n",
       "      <th>Low Price</th>\n",
       "      <th>Last Price</th>\n",
       "      <th>Adj Close</th>\n",
       "      <th>Average Price</th>\n",
       "      <th>Daily Return</th>\n",
       "    </tr>\n",
       "    <tr>\n",
       "      <th>Date</th>\n",
       "      <th></th>\n",
       "      <th></th>\n",
       "      <th></th>\n",
       "      <th></th>\n",
       "      <th></th>\n",
       "      <th></th>\n",
       "      <th></th>\n",
       "      <th></th>\n",
       "      <th></th>\n",
       "    </tr>\n",
       "  </thead>\n",
       "  <tbody>\n",
       "    <tr>\n",
       "      <th>2020-04-01</th>\n",
       "      <td>SETFNIF50</td>\n",
       "      <td>89.40</td>\n",
       "      <td>92.10</td>\n",
       "      <td>94.80</td>\n",
       "      <td>88.25</td>\n",
       "      <td>89.10</td>\n",
       "      <td>89.13</td>\n",
       "      <td>88.91</td>\n",
       "      <td>NaN</td>\n",
       "    </tr>\n",
       "    <tr>\n",
       "      <th>2020-04-03</th>\n",
       "      <td>SETFNIF50</td>\n",
       "      <td>89.13</td>\n",
       "      <td>90.95</td>\n",
       "      <td>90.95</td>\n",
       "      <td>84.71</td>\n",
       "      <td>85.35</td>\n",
       "      <td>85.17</td>\n",
       "      <td>85.65</td>\n",
       "      <td>-0.044429</td>\n",
       "    </tr>\n",
       "    <tr>\n",
       "      <th>2020-04-07</th>\n",
       "      <td>SETFNIF50</td>\n",
       "      <td>85.17</td>\n",
       "      <td>88.60</td>\n",
       "      <td>91.50</td>\n",
       "      <td>86.00</td>\n",
       "      <td>90.79</td>\n",
       "      <td>90.78</td>\n",
       "      <td>88.89</td>\n",
       "      <td>0.065868</td>\n",
       "    </tr>\n",
       "    <tr>\n",
       "      <th>2020-04-08</th>\n",
       "      <td>SETFNIF50</td>\n",
       "      <td>90.78</td>\n",
       "      <td>90.65</td>\n",
       "      <td>93.50</td>\n",
       "      <td>89.10</td>\n",
       "      <td>90.30</td>\n",
       "      <td>90.32</td>\n",
       "      <td>91.60</td>\n",
       "      <td>-0.005067</td>\n",
       "    </tr>\n",
       "    <tr>\n",
       "      <th>2020-04-09</th>\n",
       "      <td>SETFNIF50</td>\n",
       "      <td>90.32</td>\n",
       "      <td>92.00</td>\n",
       "      <td>93.41</td>\n",
       "      <td>91.50</td>\n",
       "      <td>93.19</td>\n",
       "      <td>93.11</td>\n",
       "      <td>92.88</td>\n",
       "      <td>0.030890</td>\n",
       "    </tr>\n",
       "  </tbody>\n",
       "</table>\n",
       "</div>"
      ],
      "text/plain": [
       "               Symbol  Prev Close  Open Price  High Price  Low Price  \\\n",
       "Date                                                                   \n",
       "2020-04-01  SETFNIF50       89.40       92.10       94.80      88.25   \n",
       "2020-04-03  SETFNIF50       89.13       90.95       90.95      84.71   \n",
       "2020-04-07  SETFNIF50       85.17       88.60       91.50      86.00   \n",
       "2020-04-08  SETFNIF50       90.78       90.65       93.50      89.10   \n",
       "2020-04-09  SETFNIF50       90.32       92.00       93.41      91.50   \n",
       "\n",
       "            Last Price  Adj Close  Average Price  Daily Return  \n",
       "Date                                                            \n",
       "2020-04-01       89.10      89.13          88.91           NaN  \n",
       "2020-04-03       85.35      85.17          85.65     -0.044429  \n",
       "2020-04-07       90.79      90.78          88.89      0.065868  \n",
       "2020-04-08       90.30      90.32          91.60     -0.005067  \n",
       "2020-04-09       93.19      93.11          92.88      0.030890  "
      ]
     },
     "execution_count": 6,
     "metadata": {},
     "output_type": "execute_result"
    }
   ],
   "source": [
    "equity_data[\"Daily Return\"] = equity_data[\"Adj Close\"].pct_change(1)\n",
    "equity_data.head()"
   ]
  },
  {
   "cell_type": "code",
   "execution_count": 7,
   "id": "360334a6",
   "metadata": {},
   "outputs": [
    {
     "data": {
      "text/html": [
       "<div>\n",
       "<style scoped>\n",
       "    .dataframe tbody tr th:only-of-type {\n",
       "        vertical-align: middle;\n",
       "    }\n",
       "\n",
       "    .dataframe tbody tr th {\n",
       "        vertical-align: top;\n",
       "    }\n",
       "\n",
       "    .dataframe thead th {\n",
       "        text-align: right;\n",
       "    }\n",
       "</style>\n",
       "<table border=\"1\" class=\"dataframe\">\n",
       "  <thead>\n",
       "    <tr style=\"text-align: right;\">\n",
       "      <th></th>\n",
       "      <th>Open</th>\n",
       "      <th>High</th>\n",
       "      <th>Low</th>\n",
       "      <th>Close</th>\n",
       "      <th>Adj Close</th>\n",
       "      <th>Daily Return</th>\n",
       "    </tr>\n",
       "    <tr>\n",
       "      <th>Date</th>\n",
       "      <th></th>\n",
       "      <th></th>\n",
       "      <th></th>\n",
       "      <th></th>\n",
       "      <th></th>\n",
       "      <th></th>\n",
       "    </tr>\n",
       "  </thead>\n",
       "  <tbody>\n",
       "    <tr>\n",
       "      <th>2020-04-01</th>\n",
       "      <td>6437.319336</td>\n",
       "      <td>6612.573730</td>\n",
       "      <td>6202.373535</td>\n",
       "      <td>6606.776367</td>\n",
       "      <td>6606.776367</td>\n",
       "      <td>NaN</td>\n",
       "    </tr>\n",
       "    <tr>\n",
       "      <th>2020-04-02</th>\n",
       "      <td>6606.776367</td>\n",
       "      <td>7088.247559</td>\n",
       "      <td>6595.918457</td>\n",
       "      <td>6793.624512</td>\n",
       "      <td>6793.624512</td>\n",
       "      <td>0.028281</td>\n",
       "    </tr>\n",
       "    <tr>\n",
       "      <th>2020-04-03</th>\n",
       "      <td>6797.396484</td>\n",
       "      <td>7003.220703</td>\n",
       "      <td>6673.335938</td>\n",
       "      <td>6733.387207</td>\n",
       "      <td>6733.387207</td>\n",
       "      <td>-0.008867</td>\n",
       "    </tr>\n",
       "    <tr>\n",
       "      <th>2020-04-04</th>\n",
       "      <td>6738.382813</td>\n",
       "      <td>6878.953613</td>\n",
       "      <td>6696.484863</td>\n",
       "      <td>6867.527344</td>\n",
       "      <td>6867.527344</td>\n",
       "      <td>0.019922</td>\n",
       "    </tr>\n",
       "    <tr>\n",
       "      <th>2020-04-05</th>\n",
       "      <td>6862.537598</td>\n",
       "      <td>6883.414063</td>\n",
       "      <td>6715.929199</td>\n",
       "      <td>6791.129395</td>\n",
       "      <td>6791.129395</td>\n",
       "      <td>-0.011125</td>\n",
       "    </tr>\n",
       "  </tbody>\n",
       "</table>\n",
       "</div>"
      ],
      "text/plain": [
       "                   Open         High          Low        Close    Adj Close  \\\n",
       "Date                                                                          \n",
       "2020-04-01  6437.319336  6612.573730  6202.373535  6606.776367  6606.776367   \n",
       "2020-04-02  6606.776367  7088.247559  6595.918457  6793.624512  6793.624512   \n",
       "2020-04-03  6797.396484  7003.220703  6673.335938  6733.387207  6733.387207   \n",
       "2020-04-04  6738.382813  6878.953613  6696.484863  6867.527344  6867.527344   \n",
       "2020-04-05  6862.537598  6883.414063  6715.929199  6791.129395  6791.129395   \n",
       "\n",
       "            Daily Return  \n",
       "Date                      \n",
       "2020-04-01           NaN  \n",
       "2020-04-02      0.028281  \n",
       "2020-04-03     -0.008867  \n",
       "2020-04-04      0.019922  \n",
       "2020-04-05     -0.011125  "
      ]
     },
     "execution_count": 7,
     "metadata": {},
     "output_type": "execute_result"
    }
   ],
   "source": [
    "bitcoin_data[\"Daily Return\"] = bitcoin_data[\"Adj Close\"].pct_change(1)\n",
    "bitcoin_data.head()"
   ]
  },
  {
   "cell_type": "markdown",
   "id": "2ad58701",
   "metadata": {},
   "source": [
    "# Kurtosis"
   ]
  },
  {
   "cell_type": "code",
   "execution_count": 8,
   "id": "18c9665c",
   "metadata": {},
   "outputs": [
    {
     "data": {
      "text/plain": [
       "4.933289675592802"
      ]
     },
     "execution_count": 8,
     "metadata": {},
     "output_type": "execute_result"
    }
   ],
   "source": [
    "kurtosis(equity_data[\"Daily Return\"].dropna())"
   ]
  },
  {
   "cell_type": "code",
   "execution_count": 9,
   "id": "006ce877",
   "metadata": {},
   "outputs": [
    {
     "data": {
      "text/plain": [
       "3.7654261862915552"
      ]
     },
     "execution_count": 9,
     "metadata": {},
     "output_type": "execute_result"
    }
   ],
   "source": [
    "kurtosis(gold_data[\"Daily Return\"].dropna())"
   ]
  },
  {
   "cell_type": "code",
   "execution_count": 10,
   "id": "7173359f",
   "metadata": {},
   "outputs": [
    {
     "data": {
      "text/plain": [
       "2.835246258512048"
      ]
     },
     "execution_count": 10,
     "metadata": {},
     "output_type": "execute_result"
    }
   ],
   "source": [
    "kurtosis(bitcoin_data[\"Daily Return\"].dropna())"
   ]
  },
  {
   "cell_type": "markdown",
   "id": "d9648c68",
   "metadata": {},
   "source": [
    "# Extreme Value"
   ]
  },
  {
   "cell_type": "code",
   "execution_count": 11,
   "id": "d798bc7d",
   "metadata": {},
   "outputs": [],
   "source": [
    "EQT1 = pd.concat([equity_data['Adj Close'], equity_data['Daily Return']], axis=1, keys=['Adj Close', 'Daily Return']).fillna(0).values\n",
    "EQT2 = pd.concat([gold_data['Adj Close'], gold_data['Daily Return']], axis=1, keys=['Adj Close', 'Daily Return']).fillna(0).values\n",
    "EQT3 = pd.concat([bitcoin_data['Adj Close'], bitcoin_data['Daily Return']], axis=1, keys=['Adj Close', 'Daily Return']).fillna(0).values"
   ]
  },
  {
   "cell_type": "markdown",
   "id": "a5da410f",
   "metadata": {},
   "source": [
    "We choose DBSCAN because it is essentally an algorithm used to cluster data into groups. It can be used to detect outliers (extreme values). After clustering all the data points, every cluster with only 1 data point can be regarded as an extreme value. In proportion, it is a good fit for us to detect- detect extreme values."
   ]
  },
  {
   "cell_type": "code",
   "execution_count": 12,
   "id": "66469978",
   "metadata": {},
   "outputs": [],
   "source": [
    "from sklearn.cluster import DBSCAN\n",
    "from sklearn.preprocessing import StandardScaler\n",
    "\n",
    "def dbscan(X, eps, min_samples):\n",
    "    ss = StandardScaler()\n",
    "    X = ss.fit_transform(X)\n",
    "    db = DBSCAN(eps=eps, min_samples=min_samples)\n",
    "    db.fit(X)\n",
    "    y_pred = db.fit_predict(X)\n",
    "    plt.scatter(X[:,0], X[:,1],c=y_pred, cmap='Paired')\n",
    "    plt.title(\"DBSCAN\")"
   ]
  },
  {
   "cell_type": "code",
   "execution_count": 13,
   "id": "43b41ad1",
   "metadata": {},
   "outputs": [
    {
     "data": {
      "image/png": "[encoded data removed]",
      "text/plain": [
       "<Figure size 432x288 with 1 Axes>"
      ]
     },
     "metadata": {
      "needs_background": "light"
     },
     "output_type": "display_data"
    }
   ],
   "source": [
    "dbscan(EQT1, eps=1.7, min_samples=2)"
   ]
  },
  {
   "cell_type": "code",
   "execution_count": 14,
   "id": "a80460a9",
   "metadata": {},
   "outputs": [
    {
     "data": {
      "image/png": "[encoded data removed]",
      "text/plain": [
       "<Figure size 432x288 with 1 Axes>"
      ]
     },
     "metadata": {
      "needs_background": "light"
     },
     "output_type": "display_data"
    }
   ],
   "source": [
    "dbscan(EQT2, eps=1.7, min_samples=2)"
   ]
  },
  {
   "cell_type": "code",
   "execution_count": 15,
   "id": "0763d561",
   "metadata": {},
   "outputs": [
    {
     "data": {
      "image/png": "[encoded data removed]",
      "text/plain": [
       "<Figure size 432x288 with 1 Axes>"
      ]
     },
     "metadata": {
      "needs_background": "light"
     },
     "output_type": "display_data"
    }
   ],
   "source": [
    "dbscan(EQT3, eps=1.7, min_samples=2)"
   ]
  },
  {
   "cell_type": "markdown",
   "id": "83fb552e",
   "metadata": {},
   "source": [
    "# Non Guassian Copula"
   ]
  },
  {
   "cell_type": "code",
   "execution_count": 16,
   "id": "ce37cb8f",
   "metadata": {},
   "outputs": [
    {
     "data": {
      "image/png": "[encoded data removed]",
      "text/plain": [
       "<Figure size 432x288 with 3 Axes>"
      ]
     },
     "metadata": {
      "needs_background": "light"
     },
     "output_type": "display_data"
    }
   ],
   "source": [
    "from copulalib.copulalib import Copula\n",
    "from array import array \n",
    "\n",
    "# Data and histograms\n",
    "def plotData():\n",
    "    x = (bitcoin_data[\"Adj Close\"]).fillna(0).values\n",
    "    y = (bitcoin_data['Daily Return']).fillna(0).values\n",
    "    fig = plt.figure()\n",
    "    fig.add_subplot(2,2,1)\n",
    "    plt.hist(x,bins=20,color='green',alpha=0.8,align='mid')\n",
    "    plt.title('X variable distribution')\n",
    "    fig.add_subplot(2,2,3)\n",
    "    plt.scatter(x,y,marker=\"o\",alpha=0.8)\n",
    "    fig.add_subplot(2,2,4)\n",
    "    plt.title('Joint X,Y')\n",
    "    plt.hist(y,bins=20,orientation='horizontal',color='red',alpha=0.8,align='mid')\n",
    "    plt.title('Y variable distribution')    \n",
    "    plt.show()\n",
    "    \n",
    "def generateCopulas():\n",
    "    x = array((bitcoin_dataf[\"Adj Close\"]).fillna(0).values.tolist())\n",
    "    y = array((bitcoin_data['Daily Returns']).fillna(0).values.tolist())\n",
    "    fig = plt.figure()\n",
    "    \n",
    "    clayton = Copula(x,y,family='clayton')\n",
    "    uc,vc = clayton.generate_uv(1000)\n",
    "    fig.add_subplot(2,2,2)\n",
    "    plt.scatter(uc,vc,marker='.',color='red')\n",
    "    plt.ylim(0,1)\n",
    "    plt.xlim(0,1)\n",
    "    plt.title('Clayton copula')\n",
    "    plt.show()\n",
    "    \n",
    "#generateData()\n",
    "plotData()\n",
    "#generateCopulas() "
   ]
  },
  {
   "cell_type": "code",
   "execution_count": 18,
   "id": "8269bab3",
   "metadata": {},
   "outputs": [
    {
     "data": {
      "image/png": "[encoded data removed]",
      "text/plain": [
       "<Figure size 432x288 with 3 Axes>"
      ]
     },
     "metadata": {
      "needs_background": "light"
     },
     "output_type": "display_data"
    }
   ],
   "source": [
    "def plotData():\n",
    "    x = (equity_data[\"Adj Close\"]).fillna(0).values\n",
    "    y = (equity_data['Daily Return']).fillna(0).values\n",
    "    fig = plt.figure()\n",
    "    fig.add_subplot(2,2,1)\n",
    "    plt.hist(x,bins=20,color='green',alpha=0.8,align='mid')\n",
    "    plt.title('X variable distribution')\n",
    "    fig.add_subplot(2,2,3)\n",
    "    plt.scatter(x,y,marker=\"o\",alpha=0.8)\n",
    "    fig.add_subplot(2,2,4)\n",
    "    plt.title('Joint X,Y')\n",
    "    plt.hist(y,bins=20,orientation='horizontal',color='red',alpha=0.8,align='mid')\n",
    "    plt.title('Y variable distribution')    \n",
    "    plt.show()\n",
    "    \n",
    "def generateCopulas():\n",
    "    x = array((equity_data[\"Adj Close\"]).fillna(0).values.tolist())\n",
    "    y = array((equity_data['Daily Return']).fillna(0).values.tolist())\n",
    "    fig = plt.figure()\n",
    "    \n",
    "    clayton = Copula(x,y,family='clayton')\n",
    "    uc,vc = clayton.generate_uv(1000)\n",
    "    fig.add_subplot(2,2,2)\n",
    "    plt.scatter(uc,vc,marker='.',color='red')\n",
    "    plt.ylim(0,1)\n",
    "    plt.xlim(0,1)\n",
    "    plt.title('Clayton copula')\n",
    "    plt.show()\n",
    "    \n",
    "#generateData()\n",
    "plotData()\n",
    "#generateCopulas() "
   ]
  },
  {
   "cell_type": "code",
   "execution_count": null,
   "id": "6253d1b5",
   "metadata": {},
   "outputs": [],
   "source": []
  }
 ],
 "metadata": {
  "kernelspec": {
   "display_name": "Python 3",
   "language": "python",
   "name": "python3"
  },
  "language_info": {
   "codemirror_mode": {
    "name": "ipython",
    "version": 3
   },
   "file_extension": ".py",
   "mimetype": "text/x-python",
   "name": "python",
   "nbconvert_exporter": "python",
   "pygments_lexer": "ipython3",
   "version": "3.8.8"
  }
 },
 "nbformat": 4,
 "nbformat_minor": 5
}
